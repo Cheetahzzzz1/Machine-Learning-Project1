{
  "nbformat": 4,
  "nbformat_minor": 0,
  "metadata": {
    "colab": {
      "provenance": [],
      "authorship_tag": "ABX9TyNw1XIne3kW/jWF4luHBUTr"
    },
    "kernelspec": {
      "name": "python3",
      "display_name": "Python 3"
    },
    "language_info": {
      "name": "python"
    }
  },
  "cells": [
    {
      "cell_type": "markdown",
      "source": [
        "Name:- Ayush Sinha LNU\n",
        "\n",
        "UID:- 121334060\n",
        "\n",
        "# README:\n",
        "\n",
        "This project implements a comparison of several machine learning models to classify data. It uses the following classifiers:\n",
        "\n",
        "\n",
        "\n",
        "*   Linear Discriminant Analysis (LDA)\n",
        "*   Decision Tree Classifier\n",
        "\n",
        "*   k-Nearest Neighbors (k-NN)\n",
        "*   Support Vector Machine (SVM)\n",
        "\n",
        "The project includes data preprocessing, dimensionality reduction using PCA, model training, and performance evaluation using confusion matrices and error rate visualization.\n",
        "\n",
        "\n",
        "\n",
        "The code requires the following Python libraries:\n",
        "\n",
        "\n",
        "*   pandas: For data manipulation with DataFrames.\n",
        "*   numpy: For numerical operations, like array manipulation.\n",
        "\n",
        "*   scikit-learn: For various machine learning models and metrics.\n",
        "*   matplolib: For plotting results and visualizations\n",
        "\n",
        "Classifiers and PCA Implementation\n",
        "1. Linear Discriminant Analysis (LDA)\n",
        "LDA is applied to the training data to create a linear decision boundary that maximizes class separability.\n",
        "The model is trained and evaluated based on error rates and confusion matrices.\n",
        "2. Decision Tree Classifier\n",
        "A Decision Tree classifier is trained using the training data.\n",
        "The model's performance is evaluated on the test data with an error rate calculation and confusion matrix.\n",
        "3. k-Nearest Neighbors (k-NN)\n",
        "The k-NN classifier is applied for different values of k (1, 3, 5, 10).\n",
        "The model is evaluated for each value of k to determine which provides the best performance.\n",
        "4. Support Vector Machine (SVM)\n",
        "A Linear Support Vector Machine (SVM) classifier is used to find the optimal separating hyperplane.\n",
        "Model performance is evaluated on the test data.\n",
        "5. Dimensionality Reduction with PCA\n",
        "Principal Component Analysis (PCA) is used to reduce the feature dimensions for the classifiers.\n",
        "The classifiers are retrained on reduced datasets (n_components values of 5, 10, 15) to analyze performance changes due to dimensionality reduction.\n",
        "\n",
        "\n",
        "**HOW TO RUN THE CODE:**\n",
        "\n",
        "Download the Training and Testing data (TrainingData.csv and TestingData.csv) and place them in the same directory as the code.\n",
        "\n",
        "Utilized Google Colab to run the project."
      ],
      "metadata": {
        "id": "mGLn-cFyW1h0"
      }
    },
    {
      "cell_type": "code",
      "execution_count": null,
      "metadata": {
        "id": "i5794fJ3bHjj"
      },
      "outputs": [],
      "source": [
        "# Import essential libraries for data manipulation, model training, and plotting\n",
        "import pandas as pd                       # For data manipulation with DataFrames\n",
        "import numpy as np                        # For numerical operations, like array manipulation\n",
        "from sklearn.discriminant_analysis import LinearDiscriminantAnalysis  # For LDA classifier\n",
        "from sklearn.tree import DecisionTreeClassifier  # For Decision Tree classifier\n",
        "from sklearn.neighbors import KNeighborsClassifier  # For k-Nearest Neighbors classifier\n",
        "from sklearn.svm import SVC               # For Support Vector Machine classifier\n",
        "from sklearn.decomposition import PCA      # For Principal Component Analysis\n",
        "from sklearn.metrics import confusion_matrix  # For evaluating model performance (error rates)\n",
        "import matplotlib.pyplot as plt           # For creating visualizations of error ratess"
      ]
    },
    {
      "cell_type": "code",
      "source": [
        "# Here we will load the data."
      ],
      "metadata": {
        "id": "DdpoFanwbZ-4"
      },
      "execution_count": null,
      "outputs": []
    },
    {
      "cell_type": "code",
      "source": [
        "# Load the training and testing datasets into DataFrames\n",
        "train_data = pd.read_csv('/content/TrainingData.csv')  # Read the training data CSV file\n",
        "test_data = pd.read_csv('/content/TestingData.csv')    # Read the testing data CSV file\n",
        "\n",
        "# Separate the features (columns 1 to 27) and labels (column 28) for both training and testing data\n",
        "X_train = train_data.iloc[:, :-1].values  # Extract features from training data (all columns except last)\n",
        "y_train = train_data.iloc[:, -1].values   # Extract labels from training data (last column)\n",
        "X_test = test_data.iloc[:, :-1].values    # Extract features from testing data (all columns except last)\n",
        "y_test = test_data.iloc[:, -1].values     # Extract labels from testing data (last column)\n"
      ],
      "metadata": {
        "id": "cAe0jhp-bZ7f"
      },
      "execution_count": null,
      "outputs": []
    },
    {
      "cell_type": "code",
      "source": [
        "# This step will involve implementing Binary Classifiers using original features."
      ],
      "metadata": {
        "id": "fVFpOpeXbZ42"
      },
      "execution_count": null,
      "outputs": []
    },
    {
      "cell_type": "code",
      "source": [
        "# (i) Linear Discriminant Analysis (LDA)"
      ],
      "metadata": {
        "id": "e-kvOAzJbZ2C"
      },
      "execution_count": null,
      "outputs": []
    },
    {
      "cell_type": "code",
      "source": [
        "import numpy as np\n",
        "import pandas as pd\n",
        "from sklearn.metrics import confusion_matrix\n",
        "import matplotlib.pyplot as plt\n",
        "\n",
        "# Load the data\n",
        "train_data = pd.read_csv('/content/TrainingData.csv')\n",
        "test_data = pd.read_csv('/content/TestingData.csv')\n",
        "\n",
        "# Separate features and labels for training and testing data\n",
        "X_train = train_data.iloc[:, :-1].values  # 27 features\n",
        "y_train = train_data.iloc[:, -1].values   # Labels (0 for approved, 1 for denied)\n",
        "X_test = test_data.iloc[:, :-1].values\n",
        "y_test = test_data.iloc[:, -1].values\n",
        "\n",
        "# Step 1: Calculate the mean vectors for each class in the training data\n",
        "mean_approved = np.mean(X_train[y_train == 0], axis=0)  # Mean of approved samples\n",
        "mean_denied = np.mean(X_train[y_train == 1], axis=0)    # Mean of denied samples\n",
        "\n",
        "# Step 2: Calculate the within-class scatter matrix\n",
        "S_w = np.zeros((X_train.shape[1], X_train.shape[1]))  # Initialize within-class scatter matrix\n",
        "\n",
        "# Sum of scatter matrices for both classes\n",
        "for label, mean in zip([0, 1], [mean_approved, mean_denied]):\n",
        "    class_scatter = np.zeros((X_train.shape[1], X_train.shape[1]))  # Scatter matrix for each class\n",
        "    for x in X_train[y_train == label]:\n",
        "        x, mean = x.reshape(X_train.shape[1], 1), mean.reshape(X_train.shape[1], 1)\n",
        "        class_scatter += (x - mean).dot((x - mean).T)  # Calculate scatter matrix\n",
        "    S_w += class_scatter  # Accumulate to within-class scatter matrix\n",
        "\n",
        "# Step 3: Calculate the optimal direction vector w for LDA\n",
        "# This is achieved by maximizing the between-class separation\n",
        "S_w_inv = np.linalg.inv(S_w)\n",
        "w = S_w_inv.dot(mean_approved - mean_denied)  # Optimal projection direction\n",
        "\n",
        "# Step 4: Project both training and testing samples onto the new direction w\n",
        "y_proj_test = X_test.dot(w)  # Project testing data onto w to get new features y_k\n",
        "y_proj_train = X_train.dot(w)  # Project training data for internal validation (optional)\n",
        "\n",
        "# Step 5: Evaluate Type 1 and Type 2 error rates for different thresholds on the projections\n",
        "thresholds = np.linspace(min(y_proj_test), max(y_proj_test), 100)  # Range of thresholds\n",
        "type_1_errors = []  # Type 1 errors (false positive rate)\n",
        "type_2_errors = []  # Type 2 errors (false negative rate)\n",
        "\n",
        "for threshold in thresholds:\n",
        "    # Classify test samples based on threshold\n",
        "    y_pred = (y_proj_test >= threshold).astype(int)  # Denied if projection >= threshold\n",
        "\n",
        "    # Calculate confusion matrix\n",
        "    tn, fp, fn, tp = confusion_matrix(y_test, y_pred).ravel()\n",
        "\n",
        "    # Calculate Type 1 and Type 2 error rates\n",
        "    type_1_error = fp / (fp + tn)  # Type 1 Error (False Positive Rate)\n",
        "    type_2_error = fn / (fn + tp)  # Type 2 Error (False Negative Rate)\n",
        "\n",
        "    # Store the error rates for plotting\n",
        "    type_1_errors.append(type_1_error)\n",
        "    type_2_errors.append(type_2_error)\n",
        "\n",
        "# Step 6: Plot Type 1 and Type 2 error rates as the threshold varies\n",
        "plt.plot(thresholds, type_1_errors, label='Type 1 Error (False Positive Rate)')\n",
        "plt.plot(thresholds, type_2_errors, label='Type 2 Error (False Negative Rate)')\n",
        "plt.xlabel('Threshold on Projection')\n",
        "plt.ylabel('Error Rate')\n",
        "plt.legend()\n",
        "plt.title('Type 1 and Type 2 Error Rates vs Threshold for LDA')\n",
        "plt.show()\n"
      ],
      "metadata": {
        "colab": {
          "base_uri": "https://localhost:8080/",
          "height": 472
        },
        "id": "qAsizrigbZza",
        "outputId": "c3f45a41-9c29-4963-cf30-4e613c237634"
      },
      "execution_count": null,
      "outputs": [
        {
          "output_type": "display_data",
          "data": {
            "text/plain": [
              "<Figure size 640x480 with 1 Axes>"
            ],
            "image/png": "[encoded data removed]"
          },
          "metadata": {}
        }
      ]
    },
    {
      "cell_type": "markdown",
      "source": [
        "The LDA projects data onto a 1D axis, where a thrshold is set to classify data points as \"Approved\" or \"Denied\".\n",
        "\n",
        "Type 1 and Type 2 error rates are computed for a range of threshold values and a plot shows how these error rates change.\n",
        "\n",
        "LDA's performance depends significantly on finding the optimal threshold, which balances the two error types."
      ],
      "metadata": {
        "id": "F0-wFg4ghGsc"
      }
    },
    {
      "cell_type": "code",
      "source": [
        "# (ii) Decision Tree Classifier"
      ],
      "metadata": {
        "id": "w8peaqtxcJeq"
      },
      "execution_count": null,
      "outputs": []
    },
    {
      "cell_type": "code",
      "source": [
        "# Initialize the Decision Tree classifier\n",
        "tree = DecisionTreeClassifier()\n",
        "\n",
        "# Train the Decision Tree model on the training data\n",
        "tree.fit(X_train, y_train)\n",
        "\n",
        "# Predict labels for the testing data\n",
        "y_pred_tree = tree.predict(X_test)\n",
        "\n",
        "# Calculate confusion matrix values for Decision Tree predictions\n",
        "tn, fp, fn, tp = confusion_matrix(y_test, y_pred_tree).ravel()\n",
        "\n",
        "# Calculate Type 1 and Type 2 error rates\n",
        "type_1_error_tree = fp / (fp + tn)  # Type 1 error rate for Decision Tree\n",
        "type_2_error_tree = fn / (fn + tp)  # Type 2 error rate for Decision Tree\n",
        "\n",
        "# Print the error rates for Decision Tree classifier\n",
        "print(f\"Decision Tree - Type 1 Error: {type_1_error_tree}, Type 2 Error: {type_2_error_tree}\")"
      ],
      "metadata": {
        "colab": {
          "base_uri": "https://localhost:8080/"
        },
        "id": "U9mfxFUtcJbG",
        "outputId": "aec3baf4-59b6-41fd-ef4d-2f44f4c86ade"
      },
      "execution_count": null,
      "outputs": [
        {
          "output_type": "stream",
          "name": "stdout",
          "text": [
            "Decision Tree - Type 1 Error: 0.16, Type 2 Error: 0.18\n"
          ]
        }
      ]
    },
    {
      "cell_type": "markdown",
      "source": [
        "This code uses a Decision Tree to classify loan applications, with error rates calculated from the predictions on test data.\n",
        "\n",
        "Decision trees can effectively split the data, providing interpretable decision rules.\n",
        "\n",
        "The tree's performance may vary with the depth and criteria used for splits (for example Gini impurity), which effects error rates."
      ],
      "metadata": {
        "id": "uy4JInYXitJ-"
      }
    },
    {
      "cell_type": "code",
      "source": [
        "# (iii) K-Nearest Neighbour Classifier (KNN)"
      ],
      "metadata": {
        "id": "0QODb3a0cJYc"
      },
      "execution_count": null,
      "outputs": []
    },
    {
      "cell_type": "code",
      "source": [
        "# Loop over different values of k for kNN\n",
        "for k in [1, 3, 5, 10]:\n",
        "    knn = KNeighborsClassifier(n_neighbors=k)  # Initialize kNN with chosen value of k\n",
        "    knn.fit(X_train, y_train)  # Train kNN model on training data\n",
        "    y_pred_knn = knn.predict(X_test)  # Predict labels for testing data\n",
        "\n",
        "    # Compute confusion matrix and extract values\n",
        "    tn, fp, fn, tp = confusion_matrix(y_test, y_pred_knn).ravel()\n",
        "\n",
        "    # Calculate Type 1 and Type 2 error rates\n",
        "    type_1_error_knn = fp / (fp + tn)\n",
        "    type_2_error_knn = fn / (fn + tp)\n",
        "\n",
        "    # Print the error rates for kNN classifier with current k\n",
        "    print(f\"kNN (k={k}) - Type 1 Error: {type_1_error_knn}, Type 2 Error: {type_2_error_knn}\")"
      ],
      "metadata": {
        "colab": {
          "base_uri": "https://localhost:8080/"
        },
        "id": "bZCQLCEXcJV4",
        "outputId": "bc551f52-3e4e-4bf7-e2e5-83120064133b"
      },
      "execution_count": null,
      "outputs": [
        {
          "output_type": "stream",
          "name": "stdout",
          "text": [
            "kNN (k=1) - Type 1 Error: 0.25, Type 2 Error: 0.185\n",
            "kNN (k=3) - Type 1 Error: 0.185, Type 2 Error: 0.17\n",
            "kNN (k=5) - Type 1 Error: 0.2, Type 2 Error: 0.135\n",
            "kNN (k=10) - Type 1 Error: 0.17, Type 2 Error: 0.165\n"
          ]
        }
      ]
    },
    {
      "cell_type": "markdown",
      "source": [
        "This particular code evaluates kNN for different values of k (1,3,5,10), calculating error rates for each.\n",
        "\n",
        "Smaller values of k tend to fit the data more closely but may suffer from overfitting.\n",
        "\n",
        "On the other hand larger k values produces smoother decision boundaries, potentially improving generalization."
      ],
      "metadata": {
        "id": "vyCchX8TjcTF"
      }
    },
    {
      "cell_type": "code",
      "source": [
        "# (iv) Support Vector Machine (SVM)"
      ],
      "metadata": {
        "id": "iuQY-wl5cJTC"
      },
      "execution_count": null,
      "outputs": []
    },
    {
      "cell_type": "code",
      "source": [
        "from sklearn.svm import LinearSVC  # Import faster LinearSVC\n",
        "\n",
        "# Initialize LinearSVC with a smaller C value for faster computation\n",
        "svm = LinearSVC(C=0.1, max_iter=1000, dual=False)  # Set dual=False for small datasets\n",
        "\n",
        "# Train the LinearSVC model on the training data\n",
        "svm.fit(X_train, y_train)\n",
        "\n",
        "# Predict labels for the testing data\n",
        "y_pred_svm = svm.predict(X_test)\n",
        "\n",
        "# Calculate confusion matrix values for SVM predictions\n",
        "tn, fp, fn, tp = confusion_matrix(y_test, y_pred_svm).ravel()\n",
        "\n",
        "# Calculate Type 1 and Type 2 error rates\n",
        "type_1_error_svm = fp / (fp + tn)\n",
        "type_2_error_svm = fn / (fn + tp)\n",
        "\n",
        "# Print the error rates for SVM classifier\n",
        "print(f\"SVM - Type 1 Error: {type_1_error_svm}, Type 2 Error: {type_2_error_svm}\")\n"
      ],
      "metadata": {
        "colab": {
          "base_uri": "https://localhost:8080/"
        },
        "id": "kQTx2TuCcJQt",
        "outputId": "43e64fc3-3e39-4fed-dd98-4235c3878346"
      },
      "execution_count": null,
      "outputs": [
        {
          "output_type": "stream",
          "name": "stdout",
          "text": [
            "SVM - Type 1 Error: 0.14, Type 2 Error: 0.075\n"
          ]
        }
      ]
    },
    {
      "cell_type": "markdown",
      "source": [
        "This code uses SVM with a soft margin for classification on the original features. Here, LinearSVC is used for speed.\n",
        "\n",
        "SVM effectively creates decision boundary, especially for the data that is not linearly separable.\n",
        "\n",
        "SVM's performance depends on the regularization parameter C. Higher value of C makes the margin stricter."
      ],
      "metadata": {
        "id": "1JLBOE-xkBML"
      }
    },
    {
      "cell_type": "code",
      "source": [
        "# Now we will implement Principal Component Analysis (PCA) for dimensionality reduction."
      ],
      "metadata": {
        "id": "il_Ue3-qcmNa"
      },
      "execution_count": null,
      "outputs": []
    },
    {
      "cell_type": "code",
      "source": [
        "# Applying PCA on training data."
      ],
      "metadata": {
        "id": "qehFOvancmJ6"
      },
      "execution_count": null,
      "outputs": []
    },
    {
      "cell_type": "code",
      "source": [
        "# Dictionary to store PCA-transformed training and testing data for each value of K\n",
        "pca_results = {}\n",
        "\n",
        "# Loop over chosen values of K for PCA dimensionality reduction\n",
        "for k in [5, 10, 15]:\n",
        "    pca = PCA(n_components=k)  # Initialize PCA to reduce to K dimensions\n",
        "    X_train_pca = pca.fit_transform(X_train)  # Apply PCA to training data\n",
        "    X_test_pca = pca.transform(X_test)  # Apply PCA to testing data (using same transformation)\n",
        "    pca_results[k] = (X_train_pca, X_test_pca)  # Store transformed data in dictionary"
      ],
      "metadata": {
        "id": "StXzCIEtcmFn"
      },
      "execution_count": null,
      "outputs": []
    },
    {
      "cell_type": "markdown",
      "source": [
        "PCA reduces the feature dimensions to 5, 10 or 15 components, creating a simplified feature set to use with kNN and SVM."
      ],
      "metadata": {
        "id": "7Avia9mAkwCL"
      }
    },
    {
      "cell_type": "code",
      "source": [
        "# Now we will train and test KNN and SVM with new features."
      ],
      "metadata": {
        "id": "kqgqWp8Ae_YO"
      },
      "execution_count": null,
      "outputs": []
    },
    {
      "cell_type": "code",
      "source": [
        "# (i) KNN with PCA Features."
      ],
      "metadata": {
        "id": "W84tnAVve_N0"
      },
      "execution_count": null,
      "outputs": []
    },
    {
      "cell_type": "code",
      "source": [
        "# Evaluate kNN with PCA-reduced features\n",
        "for k in [5, 10, 15]:\n",
        "    X_train_pca, X_test_pca = pca_results[k]  # Get PCA-reduced training and testing data for K components\n",
        "    knn = KNeighborsClassifier(n_neighbors=5)  # Initialize kNN with k=5\n",
        "    knn.fit(X_train_pca, y_train)  # Train kNN on PCA-reduced data\n",
        "    y_pred_knn_pca = knn.predict(X_test_pca)  # Predict using PCA-reduced test data\n",
        "\n",
        "    # Compute confusion matrix and error rates\n",
        "    tn, fp, fn, tp = confusion_matrix(y_test, y_pred_knn_pca).ravel()\n",
        "    type_1_error_knn_pca = fp / (fp + tn)\n",
        "    type_2_error_knn_pca = fn / (fn + tp)\n",
        "\n",
        "    # Print error rates for kNN with PCA features\n",
        "    print(f\"kNN (PCA, K={k}) - Type 1 Error: {type_1_error_knn_pca}, Type 2 Error: {type_2_error_knn_pca}\")"
      ],
      "metadata": {
        "colab": {
          "base_uri": "https://localhost:8080/"
        },
        "id": "xYahjC3IfLGz",
        "outputId": "d7c99690-57be-4a17-9b08-5fd8ee35b5e8"
      },
      "execution_count": null,
      "outputs": [
        {
          "output_type": "stream",
          "name": "stdout",
          "text": [
            "kNN (PCA, K=5) - Type 1 Error: 0.19, Type 2 Error: 0.125\n",
            "kNN (PCA, K=10) - Type 1 Error: 0.2, Type 2 Error: 0.135\n",
            "kNN (PCA, K=15) - Type 1 Error: 0.2, Type 2 Error: 0.135\n"
          ]
        }
      ]
    },
    {
      "cell_type": "markdown",
      "source": [
        "Using fewer dimensions often speeds up training while still achieving a reasonable accuracy. Larger K values tend to retain more data variance, resulting in much greater accuracy."
      ],
      "metadata": {
        "id": "2xUa5axolDpR"
      }
    },
    {
      "cell_type": "code",
      "source": [
        "# (ii) SVM with PCA Features."
      ],
      "metadata": {
        "id": "FeWKgRK3fLDP"
      },
      "execution_count": null,
      "outputs": []
    },
    {
      "cell_type": "code",
      "source": [
        "from sklearn.svm import LinearSVC  # Import faster LinearSVC\n",
        "\n",
        "# Dictionary to store Type 1 and Type 2 error rates for different PCA component counts\n",
        "svm_pca_results = {}\n",
        "\n",
        "# Loop over different numbers of PCA components\n",
        "for k in [5, 10, 15]:\n",
        "    # Retrieve PCA-reduced features for the current number of components (K)\n",
        "    X_train_pca, X_test_pca = pca_results[k]\n",
        "\n",
        "    # Initialize LinearSVC with a smaller C value for faster computation\n",
        "    svm_pca = LinearSVC(C=0.1, max_iter=1000, dual=False)  # Set dual=False for smaller datasets\n",
        "\n",
        "    # Train the LinearSVC model on PCA-reduced training data\n",
        "    svm_pca.fit(X_train_pca, y_train)\n",
        "\n",
        "    # Predict labels for PCA-reduced testing data\n",
        "    y_pred_svm_pca = svm_pca.predict(X_test_pca)\n",
        "\n",
        "    # Calculate confusion matrix values for SVM predictions on PCA-reduced data\n",
        "    tn, fp, fn, tp = confusion_matrix(y_test, y_pred_svm_pca).ravel()\n",
        "\n",
        "    # Calculate Type 1 and Type 2 error rates\n",
        "    type_1_error_svm_pca = fp / (fp + tn)\n",
        "    type_2_error_svm_pca = fn / (fn + tp)\n",
        "\n",
        "    # Store results for the current number of components\n",
        "    svm_pca_results[k] = (type_1_error_svm_pca, type_2_error_svm_pca)\n",
        "\n",
        "    # Print the error rates for SVM with PCA features\n",
        "    print(f\"SVM (PCA, K={k}) - Type 1 Error: {type_1_error_svm_pca}, Type 2 Error: {type_2_error_svm_pca}\")"
      ],
      "metadata": {
        "colab": {
          "base_uri": "https://localhost:8080/"
        },
        "id": "2xqNOlggfK_o",
        "outputId": "2a5eeba9-eba2-468f-cfa7-95ebcad5c8cc"
      },
      "execution_count": null,
      "outputs": [
        {
          "output_type": "stream",
          "name": "stdout",
          "text": [
            "SVM (PCA, K=5) - Type 1 Error: 0.09, Type 2 Error: 0.135\n",
            "SVM (PCA, K=10) - Type 1 Error: 0.1, Type 2 Error: 0.125\n",
            "SVM (PCA, K=15) - Type 1 Error: 0.1, Type 2 Error: 0.08\n"
          ]
        }
      ]
    },
    {
      "cell_type": "markdown",
      "source": [
        "SVM generally performs well with PCA-reduced features, as it focuses on creating an optimal margin in lower dimensional space."
      ],
      "metadata": {
        "id": "qeSLgXshlX1A"
      }
    },
    {
      "cell_type": "code",
      "source": [
        "# Comparison of new kNN and SVM to that of the old classifiers"
      ],
      "metadata": {
        "id": "FO5fvuMPBoft"
      },
      "execution_count": null,
      "outputs": []
    },
    {
      "cell_type": "markdown",
      "source": [
        "1.) Original Classifiers (kNN and SVM with 27 features)\n",
        "\n",
        "*   These classifiers use the full feature set, capturing all available information.\n",
        "*   The original kNN classifier's performance varies with the value of k.\n",
        "\n",
        "*   SVM with original feature set has a high-dimensional hyperplane that may separate classes well but can be computationally intensive.\n",
        "\n",
        "\n",
        "2.) PCA-Reduced Classifiers (kNN and SVM with 5, 10 1nd 15 components)\n",
        "\n",
        "*   For kNN, lower values of k are sensitive to the reduction in feature dimensions and may show higher error rates with fewer PCA components\n",
        "*   Moderate values of k (like 5 or 10) provide a stable balance for kNN, achieving similar error rates to the original kNN classifier when using 10 or 15 PCA components.\n",
        "\n",
        "*   SVM generally maintains robust performance even with reduced dimensions, as it focuses on maximizing the margin between classes\n",
        "*   With 10 or 15 components, SVM can achieve error rates close to the original classifier while also benefitting from faster computation speed.\n",
        "\n"
      ],
      "metadata": {
        "id": "c10j5gBFBZfu"
      }
    },
    {
      "cell_type": "code",
      "source": [
        "# Overall Conclusion"
      ],
      "metadata": {
        "id": "tpMBqYOTlsZo"
      },
      "execution_count": null,
      "outputs": []
    },
    {
      "cell_type": "markdown",
      "source": [
        "\n",
        "*   **LDA** is useful for understanding the trade-off between Type 1 and Type 2 errors but is sensitive to threshold settings.\n",
        "*   **Decision Trees** offer interpretability and effective classification but it can overfit without training.\n",
        "*   **kNN** is straightforward, with performance depending on k and the distance metric.\n",
        "*   **SVM** provides robust classification but is very demanding for high-dimensional data.\n",
        "\n",
        "*  **PCA** is an excellent tool fro reducing feature dimensions, enhancing speed, and reducing overfitting when paired with classifiers like kNN and SVM.\n",
        "\n",
        "*   Both kNN and SVM work effectively with PCA-reduced data, demonstrating that dimensionality reduction can help classifiers maintain accuracy while also reducing computation."
      ],
      "metadata": {
        "id": "MGs-C9SclvCM"
      }
    }
  ]
}